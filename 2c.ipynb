{
 "cells": [
  {
   "cell_type": "markdown",
   "metadata": {},
   "source": [
    "## Modul yang Dibutuhkan"
   ]
  },
  {
   "cell_type": "code",
   "execution_count": 41,
   "metadata": {},
   "outputs": [],
   "source": [
    "import warnings\n",
    "import pandas as pd\n",
    "import numpy as np\n",
    "import seaborn as sns\n",
    "import matplotlib.pyplot as plt\n",
    "warnings.filterwarnings('ignore')\n",
    "\n",
    "from sklearn.preprocessing import LabelEncoder, StandardScaler\n",
    "from sklearn.preprocessing import OneHotEncoder\n",
    "from sklearn.model_selection import train_test_split\n",
    "from imblearn.over_sampling import SMOTE\n",
    "import xgboost as xgb\n",
    "from hyperopt import STATUS_OK, Trials, fmin, hp, tpe\n",
    "\n",
    "from sklearn.ensemble import AdaBoostClassifier\n",
    "from sklearn.metrics import classification_report, confusion_matrix"
   ]
  },
  {
   "cell_type": "markdown",
   "metadata": {},
   "source": [
    "## Membaca Data"
   ]
  },
  {
   "cell_type": "code",
   "execution_count": 5,
   "metadata": {},
   "outputs": [
    {
     "data": {
      "text/html": [
       "<div>\n",
       "<style scoped>\n",
       "    .dataframe tbody tr th:only-of-type {\n",
       "        vertical-align: middle;\n",
       "    }\n",
       "\n",
       "    .dataframe tbody tr th {\n",
       "        vertical-align: top;\n",
       "    }\n",
       "\n",
       "    .dataframe thead th {\n",
       "        text-align: right;\n",
       "    }\n",
       "</style>\n",
       "<table border=\"1\" class=\"dataframe\">\n",
       "  <thead>\n",
       "    <tr style=\"text-align: right;\">\n",
       "      <th></th>\n",
       "      <th>trans_date_trans_time</th>\n",
       "      <th>merchant</th>\n",
       "      <th>category</th>\n",
       "      <th>amt</th>\n",
       "      <th>city</th>\n",
       "      <th>state</th>\n",
       "      <th>lat</th>\n",
       "      <th>long</th>\n",
       "      <th>city_pop</th>\n",
       "      <th>job</th>\n",
       "      <th>dob</th>\n",
       "      <th>trans_num</th>\n",
       "      <th>merch_lat</th>\n",
       "      <th>merch_long</th>\n",
       "      <th>is_fraud</th>\n",
       "    </tr>\n",
       "  </thead>\n",
       "  <tbody>\n",
       "    <tr>\n",
       "      <th>0</th>\n",
       "      <td>2019-04-01 00:58:00</td>\n",
       "      <td>\"Stokes, Christiansen and Sipes\"</td>\n",
       "      <td>grocery_net</td>\n",
       "      <td>14.37</td>\n",
       "      <td>Wales</td>\n",
       "      <td>AK</td>\n",
       "      <td>64.7556</td>\n",
       "      <td>-165.6723</td>\n",
       "      <td>145</td>\n",
       "      <td>\"Administrator, education\"</td>\n",
       "      <td>1939-09-11 00:00:00</td>\n",
       "      <td>a3806e984cec6ac0096d8184c64ad3a1</td>\n",
       "      <td>65.654142</td>\n",
       "      <td>-164.722603</td>\n",
       "      <td>1</td>\n",
       "    </tr>\n",
       "    <tr>\n",
       "      <th>1</th>\n",
       "      <td>2019-04-01 15:06:00</td>\n",
       "      <td>Predovic Inc</td>\n",
       "      <td>shopping_net</td>\n",
       "      <td>966.11</td>\n",
       "      <td>Wales</td>\n",
       "      <td>AK</td>\n",
       "      <td>64.7556</td>\n",
       "      <td>-165.6723</td>\n",
       "      <td>145</td>\n",
       "      <td>\"Administrator, education\"</td>\n",
       "      <td>1939-09-11 00:00:00</td>\n",
       "      <td>a59185fe1b9ccf21323f581d7477573f</td>\n",
       "      <td>65.468863</td>\n",
       "      <td>-165.473127</td>\n",
       "      <td>1</td>\n",
       "    </tr>\n",
       "    <tr>\n",
       "      <th>2</th>\n",
       "      <td>2019-04-01 22:37:00</td>\n",
       "      <td>Wisozk and Sons</td>\n",
       "      <td>misc_pos</td>\n",
       "      <td>49.61</td>\n",
       "      <td>Wales</td>\n",
       "      <td>AK</td>\n",
       "      <td>64.7556</td>\n",
       "      <td>-165.6723</td>\n",
       "      <td>145</td>\n",
       "      <td>\"Administrator, education\"</td>\n",
       "      <td>1939-09-11 00:00:00</td>\n",
       "      <td>86ba3a888b42cd3925881fa34177b4e0</td>\n",
       "      <td>65.347667</td>\n",
       "      <td>-165.914542</td>\n",
       "      <td>1</td>\n",
       "    </tr>\n",
       "    <tr>\n",
       "      <th>3</th>\n",
       "      <td>2019-04-01 23:06:00</td>\n",
       "      <td>Murray-Smitham</td>\n",
       "      <td>grocery_pos</td>\n",
       "      <td>295.26</td>\n",
       "      <td>Wales</td>\n",
       "      <td>AK</td>\n",
       "      <td>64.7556</td>\n",
       "      <td>-165.6723</td>\n",
       "      <td>145</td>\n",
       "      <td>\"Administrator, education\"</td>\n",
       "      <td>1939-09-11 00:00:00</td>\n",
       "      <td>3a068fe1d856f0ecedbed33e4b5f4496</td>\n",
       "      <td>64.445035</td>\n",
       "      <td>-166.080207</td>\n",
       "      <td>1</td>\n",
       "    </tr>\n",
       "    <tr>\n",
       "      <th>4</th>\n",
       "      <td>2019-04-01 23:59:00</td>\n",
       "      <td>Friesen Lt</td>\n",
       "      <td>health_fitness</td>\n",
       "      <td>18.17</td>\n",
       "      <td>Wales</td>\n",
       "      <td>AK</td>\n",
       "      <td>64.7556</td>\n",
       "      <td>-165.6723</td>\n",
       "      <td>145</td>\n",
       "      <td>\"Administrator, education\"</td>\n",
       "      <td>1939-09-11 00:00:00</td>\n",
       "      <td>891cdd1191028759dc20dc224347a0ff</td>\n",
       "      <td>65.447094</td>\n",
       "      <td>-165.446843</td>\n",
       "      <td>1</td>\n",
       "    </tr>\n",
       "  </tbody>\n",
       "</table>\n",
       "</div>"
      ],
      "text/plain": [
       "  trans_date_trans_time                          merchant        category  \\\n",
       "0   2019-04-01 00:58:00  \"Stokes, Christiansen and Sipes\"     grocery_net   \n",
       "1   2019-04-01 15:06:00                      Predovic Inc    shopping_net   \n",
       "2   2019-04-01 22:37:00                   Wisozk and Sons        misc_pos   \n",
       "3   2019-04-01 23:06:00                    Murray-Smitham     grocery_pos   \n",
       "4   2019-04-01 23:59:00                        Friesen Lt  health_fitness   \n",
       "\n",
       "      amt   city state      lat      long  city_pop  \\\n",
       "0   14.37  Wales    AK  64.7556 -165.6723       145   \n",
       "1  966.11  Wales    AK  64.7556 -165.6723       145   \n",
       "2   49.61  Wales    AK  64.7556 -165.6723       145   \n",
       "3  295.26  Wales    AK  64.7556 -165.6723       145   \n",
       "4   18.17  Wales    AK  64.7556 -165.6723       145   \n",
       "\n",
       "                          job                  dob  \\\n",
       "0  \"Administrator, education\"  1939-09-11 00:00:00   \n",
       "1  \"Administrator, education\"  1939-09-11 00:00:00   \n",
       "2  \"Administrator, education\"  1939-09-11 00:00:00   \n",
       "3  \"Administrator, education\"  1939-09-11 00:00:00   \n",
       "4  \"Administrator, education\"  1939-09-11 00:00:00   \n",
       "\n",
       "                          trans_num  merch_lat  merch_long is_fraud  \n",
       "0  a3806e984cec6ac0096d8184c64ad3a1  65.654142 -164.722603        1  \n",
       "1  a59185fe1b9ccf21323f581d7477573f  65.468863 -165.473127        1  \n",
       "2  86ba3a888b42cd3925881fa34177b4e0  65.347667 -165.914542        1  \n",
       "3  3a068fe1d856f0ecedbed33e4b5f4496  64.445035 -166.080207        1  \n",
       "4  891cdd1191028759dc20dc224347a0ff  65.447094 -165.446843        1  "
      ]
     },
     "execution_count": 5,
     "metadata": {},
     "output_type": "execute_result"
    }
   ],
   "source": [
    "data = pd.read_excel(\"fraud.xlsx\")\n",
    "data.head()"
   ]
  },
  {
   "cell_type": "markdown",
   "metadata": {},
   "source": [
    "## Preprocessing dan Exploratory Data Analysis (EDA) "
   ]
  },
  {
   "cell_type": "code",
   "execution_count": 6,
   "metadata": {},
   "outputs": [
    {
     "name": "stdout",
     "output_type": "stream",
     "text": [
      "<class 'pandas.core.frame.DataFrame'>\n",
      "RangeIndex: 14446 entries, 0 to 14445\n",
      "Data columns (total 15 columns):\n",
      " #   Column                 Non-Null Count  Dtype  \n",
      "---  ------                 --------------  -----  \n",
      " 0   trans_date_trans_time  14446 non-null  object \n",
      " 1   merchant               14446 non-null  object \n",
      " 2   category               14446 non-null  object \n",
      " 3   amt                    14446 non-null  float64\n",
      " 4   city                   14446 non-null  object \n",
      " 5   state                  14446 non-null  object \n",
      " 6   lat                    14446 non-null  float64\n",
      " 7   long                   14446 non-null  float64\n",
      " 8   city_pop               14446 non-null  int64  \n",
      " 9   job                    14446 non-null  object \n",
      " 10  dob                    14446 non-null  object \n",
      " 11  trans_num              14446 non-null  object \n",
      " 12  merch_lat              14446 non-null  float64\n",
      " 13  merch_long             14446 non-null  float64\n",
      " 14  is_fraud               14446 non-null  object \n",
      "dtypes: float64(5), int64(1), object(9)\n",
      "memory usage: 1.7+ MB\n"
     ]
    }
   ],
   "source": [
    "##Mengecek struktur dari data\n",
    "data.info()"
   ]
  },
  {
   "cell_type": "code",
   "execution_count": 7,
   "metadata": {},
   "outputs": [
    {
     "data": {
      "text/plain": [
       "trans_date_trans_time    0\n",
       "merchant                 0\n",
       "category                 0\n",
       "amt                      0\n",
       "city                     0\n",
       "state                    0\n",
       "lat                      0\n",
       "long                     0\n",
       "city_pop                 0\n",
       "job                      0\n",
       "dob                      0\n",
       "trans_num                0\n",
       "merch_lat                0\n",
       "merch_long               0\n",
       "is_fraud                 0\n",
       "dtype: int64"
      ]
     },
     "execution_count": 7,
     "metadata": {},
     "output_type": "execute_result"
    }
   ],
   "source": [
    "##Mengecek nilai kosong (missing value)\n",
    "data.isnull().sum()"
   ]
  },
  {
   "cell_type": "code",
   "execution_count": 8,
   "metadata": {},
   "outputs": [
    {
     "data": {
      "text/html": [
       "<div>\n",
       "<style scoped>\n",
       "    .dataframe tbody tr th:only-of-type {\n",
       "        vertical-align: middle;\n",
       "    }\n",
       "\n",
       "    .dataframe tbody tr th {\n",
       "        vertical-align: top;\n",
       "    }\n",
       "\n",
       "    .dataframe thead th {\n",
       "        text-align: right;\n",
       "    }\n",
       "</style>\n",
       "<table border=\"1\" class=\"dataframe\">\n",
       "  <thead>\n",
       "    <tr style=\"text-align: right;\">\n",
       "      <th></th>\n",
       "      <th>count</th>\n",
       "      <th>mean</th>\n",
       "      <th>std</th>\n",
       "      <th>min</th>\n",
       "      <th>25%</th>\n",
       "      <th>50%</th>\n",
       "      <th>75%</th>\n",
       "      <th>max</th>\n",
       "    </tr>\n",
       "  </thead>\n",
       "  <tbody>\n",
       "    <tr>\n",
       "      <th>amt</th>\n",
       "      <td>14446.0</td>\n",
       "      <td>124.430073</td>\n",
       "      <td>231.352587</td>\n",
       "      <td>1.000000</td>\n",
       "      <td>12.080000</td>\n",
       "      <td>51.520000</td>\n",
       "      <td>101.030000</td>\n",
       "      <td>3.261470e+03</td>\n",
       "    </tr>\n",
       "    <tr>\n",
       "      <th>lat</th>\n",
       "      <td>14446.0</td>\n",
       "      <td>39.787692</td>\n",
       "      <td>5.317039</td>\n",
       "      <td>20.027100</td>\n",
       "      <td>36.715400</td>\n",
       "      <td>39.666200</td>\n",
       "      <td>41.940400</td>\n",
       "      <td>6.669330e+01</td>\n",
       "    </tr>\n",
       "    <tr>\n",
       "      <th>long</th>\n",
       "      <td>14446.0</td>\n",
       "      <td>-110.874225</td>\n",
       "      <td>12.985813</td>\n",
       "      <td>-165.672300</td>\n",
       "      <td>-120.415800</td>\n",
       "      <td>-111.098500</td>\n",
       "      <td>-101.136000</td>\n",
       "      <td>-8.962870e+01</td>\n",
       "    </tr>\n",
       "    <tr>\n",
       "      <th>city_pop</th>\n",
       "      <td>14446.0</td>\n",
       "      <td>106537.002838</td>\n",
       "      <td>290291.609056</td>\n",
       "      <td>46.000000</td>\n",
       "      <td>493.000000</td>\n",
       "      <td>1645.000000</td>\n",
       "      <td>35439.000000</td>\n",
       "      <td>2.383912e+06</td>\n",
       "    </tr>\n",
       "    <tr>\n",
       "      <th>merch_lat</th>\n",
       "      <td>14446.0</td>\n",
       "      <td>39.787991</td>\n",
       "      <td>5.360593</td>\n",
       "      <td>19.032689</td>\n",
       "      <td>36.794655</td>\n",
       "      <td>39.620953</td>\n",
       "      <td>42.275740</td>\n",
       "      <td>6.751027e+01</td>\n",
       "    </tr>\n",
       "    <tr>\n",
       "      <th>merch_long</th>\n",
       "      <td>14446.0</td>\n",
       "      <td>-110.874892</td>\n",
       "      <td>12.995596</td>\n",
       "      <td>-166.670685</td>\n",
       "      <td>-120.146253</td>\n",
       "      <td>-111.192629</td>\n",
       "      <td>-100.446822</td>\n",
       "      <td>-8.864637e+01</td>\n",
       "    </tr>\n",
       "  </tbody>\n",
       "</table>\n",
       "</div>"
      ],
      "text/plain": [
       "              count           mean            std         min         25%  \\\n",
       "amt         14446.0     124.430073     231.352587    1.000000   12.080000   \n",
       "lat         14446.0      39.787692       5.317039   20.027100   36.715400   \n",
       "long        14446.0    -110.874225      12.985813 -165.672300 -120.415800   \n",
       "city_pop    14446.0  106537.002838  290291.609056   46.000000  493.000000   \n",
       "merch_lat   14446.0      39.787991       5.360593   19.032689   36.794655   \n",
       "merch_long  14446.0    -110.874892      12.995596 -166.670685 -120.146253   \n",
       "\n",
       "                    50%           75%           max  \n",
       "amt           51.520000    101.030000  3.261470e+03  \n",
       "lat           39.666200     41.940400  6.669330e+01  \n",
       "long        -111.098500   -101.136000 -8.962870e+01  \n",
       "city_pop    1645.000000  35439.000000  2.383912e+06  \n",
       "merch_lat     39.620953     42.275740  6.751027e+01  \n",
       "merch_long  -111.192629   -100.446822 -8.864637e+01  "
      ]
     },
     "execution_count": 8,
     "metadata": {},
     "output_type": "execute_result"
    }
   ],
   "source": [
    "##Mengecek statistik deskriptif \n",
    "data.describe().T"
   ]
  },
  {
   "cell_type": "code",
   "execution_count": 9,
   "metadata": {},
   "outputs": [
    {
     "data": {
      "text/plain": [
       "array([1, '1\"2020-12-24 16:56:24\"', 0, '0\"2019-01-01 00:00:44\"'],\n",
       "      dtype=object)"
      ]
     },
     "execution_count": 9,
     "metadata": {},
     "output_type": "execute_result"
    }
   ],
   "source": [
    "##mengecek label dari fraud\n",
    "data['is_fraud'].unique()"
   ]
  },
  {
   "cell_type": "code",
   "execution_count": 10,
   "metadata": {},
   "outputs": [
    {
     "data": {
      "text/html": [
       "<div>\n",
       "<style scoped>\n",
       "    .dataframe tbody tr th:only-of-type {\n",
       "        vertical-align: middle;\n",
       "    }\n",
       "\n",
       "    .dataframe tbody tr th {\n",
       "        vertical-align: top;\n",
       "    }\n",
       "\n",
       "    .dataframe thead th {\n",
       "        text-align: right;\n",
       "    }\n",
       "</style>\n",
       "<table border=\"1\" class=\"dataframe\">\n",
       "  <thead>\n",
       "    <tr style=\"text-align: right;\">\n",
       "      <th></th>\n",
       "      <th>trans_date_trans_time</th>\n",
       "      <th>merchant</th>\n",
       "      <th>category</th>\n",
       "      <th>amt</th>\n",
       "      <th>city</th>\n",
       "      <th>state</th>\n",
       "      <th>lat</th>\n",
       "      <th>long</th>\n",
       "      <th>city_pop</th>\n",
       "      <th>job</th>\n",
       "      <th>dob</th>\n",
       "      <th>trans_num</th>\n",
       "      <th>merch_lat</th>\n",
       "      <th>merch_long</th>\n",
       "      <th>is_fraud</th>\n",
       "    </tr>\n",
       "  </thead>\n",
       "  <tbody>\n",
       "    <tr>\n",
       "      <th>1781</th>\n",
       "      <td>2020-11-12 23:19:00</td>\n",
       "      <td>Thompson-Gleason</td>\n",
       "      <td>health_fitness</td>\n",
       "      <td>19.45</td>\n",
       "      <td>Lakeport</td>\n",
       "      <td>CA</td>\n",
       "      <td>39.047</td>\n",
       "      <td>-122.9328</td>\n",
       "      <td>11256</td>\n",
       "      <td>Podiatrist</td>\n",
       "      <td>18-10-1972</td>\n",
       "      <td>bfde75d978bb9905a4a8c87440692a4c</td>\n",
       "      <td>39.25188</td>\n",
       "      <td>-122.490946</td>\n",
       "      <td>1\"2020-12-24 16:56:24\"</td>\n",
       "    </tr>\n",
       "  </tbody>\n",
       "</table>\n",
       "</div>"
      ],
      "text/plain": [
       "     trans_date_trans_time          merchant        category    amt      city  \\\n",
       "1781   2020-11-12 23:19:00  Thompson-Gleason  health_fitness  19.45  Lakeport   \n",
       "\n",
       "     state     lat      long  city_pop         job         dob  \\\n",
       "1781    CA  39.047 -122.9328     11256  Podiatrist  18-10-1972   \n",
       "\n",
       "                             trans_num  merch_lat  merch_long  \\\n",
       "1781  bfde75d978bb9905a4a8c87440692a4c   39.25188 -122.490946   \n",
       "\n",
       "                    is_fraud  \n",
       "1781  1\"2020-12-24 16:56:24\"  "
      ]
     },
     "execution_count": 10,
     "metadata": {},
     "output_type": "execute_result"
    }
   ],
   "source": [
    "data[data['is_fraud'] == '1\"2020-12-24 16:56:24\"']"
   ]
  },
  {
   "cell_type": "code",
   "execution_count": 11,
   "metadata": {},
   "outputs": [
    {
     "data": {
      "text/html": [
       "<div>\n",
       "<style scoped>\n",
       "    .dataframe tbody tr th:only-of-type {\n",
       "        vertical-align: middle;\n",
       "    }\n",
       "\n",
       "    .dataframe tbody tr th {\n",
       "        vertical-align: top;\n",
       "    }\n",
       "\n",
       "    .dataframe thead th {\n",
       "        text-align: right;\n",
       "    }\n",
       "</style>\n",
       "<table border=\"1\" class=\"dataframe\">\n",
       "  <thead>\n",
       "    <tr style=\"text-align: right;\">\n",
       "      <th></th>\n",
       "      <th>trans_date_trans_time</th>\n",
       "      <th>merchant</th>\n",
       "      <th>category</th>\n",
       "      <th>amt</th>\n",
       "      <th>city</th>\n",
       "      <th>state</th>\n",
       "      <th>lat</th>\n",
       "      <th>long</th>\n",
       "      <th>city_pop</th>\n",
       "      <th>job</th>\n",
       "      <th>dob</th>\n",
       "      <th>trans_num</th>\n",
       "      <th>merch_lat</th>\n",
       "      <th>merch_long</th>\n",
       "      <th>is_fraud</th>\n",
       "    </tr>\n",
       "  </thead>\n",
       "  <tbody>\n",
       "    <tr>\n",
       "      <th>7780</th>\n",
       "      <td>31-12-2020 23:59</td>\n",
       "      <td>Breitenberg LLC</td>\n",
       "      <td>travel</td>\n",
       "      <td>7.99</td>\n",
       "      <td>Mesa</td>\n",
       "      <td>ID</td>\n",
       "      <td>44.6255</td>\n",
       "      <td>-116.4493</td>\n",
       "      <td>129</td>\n",
       "      <td>Cartographer</td>\n",
       "      <td>15-12-1965</td>\n",
       "      <td>14392d723bb7737606b2700ac791b7aa</td>\n",
       "      <td>44.470525</td>\n",
       "      <td>-117.080888</td>\n",
       "      <td>0\"2019-01-01 00:00:44\"</td>\n",
       "    </tr>\n",
       "  </tbody>\n",
       "</table>\n",
       "</div>"
      ],
      "text/plain": [
       "     trans_date_trans_time         merchant category   amt  city state  \\\n",
       "7780      31-12-2020 23:59  Breitenberg LLC   travel  7.99  Mesa    ID   \n",
       "\n",
       "          lat      long  city_pop           job         dob  \\\n",
       "7780  44.6255 -116.4493       129  Cartographer  15-12-1965   \n",
       "\n",
       "                             trans_num  merch_lat  merch_long  \\\n",
       "7780  14392d723bb7737606b2700ac791b7aa  44.470525 -117.080888   \n",
       "\n",
       "                    is_fraud  \n",
       "7780  0\"2019-01-01 00:00:44\"  "
      ]
     },
     "execution_count": 11,
     "metadata": {},
     "output_type": "execute_result"
    }
   ],
   "source": [
    "data[data['is_fraud'] == '0\"2019-01-01 00:00:44\"']"
   ]
  },
  {
   "cell_type": "code",
   "execution_count": 12,
   "metadata": {},
   "outputs": [],
   "source": [
    "##Memperbaiki label is_fraud\n",
    "def clean_fraud_label(value):\n",
    "    if isinstance(value, str):\n",
    "        return int(value[0])  \n",
    "    return value\n",
    "\n",
    "data['is_fraud'] = data['is_fraud'].apply(clean_fraud_label)"
   ]
  },
  {
   "cell_type": "code",
   "execution_count": 13,
   "metadata": {},
   "outputs": [
    {
     "data": {
      "text/plain": [
       "trans_date_trans_time                 2020-11-12 23:19:00\n",
       "merchant                                 Thompson-Gleason\n",
       "category                                   health_fitness\n",
       "amt                                                 19.45\n",
       "city                                             Lakeport\n",
       "state                                                  CA\n",
       "lat                                                39.047\n",
       "long                                            -122.9328\n",
       "city_pop                                            11256\n",
       "job                                            Podiatrist\n",
       "dob                                            18-10-1972\n",
       "trans_num                bfde75d978bb9905a4a8c87440692a4c\n",
       "merch_lat                                        39.25188\n",
       "merch_long                                    -122.490946\n",
       "is_fraud                                                1\n",
       "Name: 1781, dtype: object"
      ]
     },
     "execution_count": 13,
     "metadata": {},
     "output_type": "execute_result"
    }
   ],
   "source": [
    "data.iloc[1781]"
   ]
  },
  {
   "cell_type": "code",
   "execution_count": 14,
   "metadata": {},
   "outputs": [
    {
     "data": {
      "text/plain": [
       "trans_date_trans_time                    31-12-2020 23:59\n",
       "merchant                                  Breitenberg LLC\n",
       "category                                           travel\n",
       "amt                                                  7.99\n",
       "city                                                 Mesa\n",
       "state                                                  ID\n",
       "lat                                               44.6255\n",
       "long                                            -116.4493\n",
       "city_pop                                              129\n",
       "job                                          Cartographer\n",
       "dob                                            15-12-1965\n",
       "trans_num                14392d723bb7737606b2700ac791b7aa\n",
       "merch_lat                                       44.470525\n",
       "merch_long                                    -117.080888\n",
       "is_fraud                                                0\n",
       "Name: 7780, dtype: object"
      ]
     },
     "execution_count": 14,
     "metadata": {},
     "output_type": "execute_result"
    }
   ],
   "source": [
    "data.iloc[7780]"
   ]
  },
  {
   "cell_type": "code",
   "execution_count": 15,
   "metadata": {},
   "outputs": [
    {
     "data": {
      "text/plain": [
       "array([1, 0], dtype=int64)"
      ]
     },
     "execution_count": 15,
     "metadata": {},
     "output_type": "execute_result"
    }
   ],
   "source": [
    "data['is_fraud'].unique()"
   ]
  },
  {
   "cell_type": "code",
   "execution_count": 16,
   "metadata": {},
   "outputs": [],
   "source": [
    "##Menyamakan format datetime\n",
    "data['trans_date_trans_time'] = pd.to_datetime(data['trans_date_trans_time'], errors='coerce', dayfirst=True)\n",
    "data['dob'] = pd.to_datetime(data['dob'], errors='coerce', dayfirst=True)"
   ]
  },
  {
   "cell_type": "code",
   "execution_count": 17,
   "metadata": {},
   "outputs": [],
   "source": [
    "##Menghitung usia dari pembeli\n",
    "data['age_at_purchase'] = (data['trans_date_trans_time'].dt.year - data['dob'].dt.year) - \\\n",
    "    ((data['trans_date_trans_time'].dt.month < data['dob'].dt.month) | \n",
    "     ((data['trans_date_trans_time'].dt.month == data['dob'].dt.month) & \n",
    "      (data['trans_date_trans_time'].dt.day < data['dob'].dt.day))).astype(int)"
   ]
  },
  {
   "cell_type": "code",
   "execution_count": 18,
   "metadata": {},
   "outputs": [],
   "source": [
    "##Menghitung jarak antara lokasi pedagang dan lokasi pembelian\n",
    "def haversine(lat1, lon1, lat2, lon2):\n",
    "    R = 6371  \n",
    "    phi1 = np.radians(lat1)\n",
    "    phi2 = np.radians(lat2)\n",
    "    delta_phi = np.radians(lat2 - lat1)\n",
    "    delta_lambda = np.radians(lon2 - lon1)\n",
    "    \n",
    "    a = np.sin(delta_phi / 2) ** 2 + np.cos(phi1) * np.cos(phi2) * np.sin(delta_lambda / 2) ** 2\n",
    "    c = 2 * np.arctan2(np.sqrt(a), np.sqrt(1 - a))\n",
    "    \n",
    "    return R * c  \n",
    "\n",
    "data['distance_to_merchant'] = data.apply(lambda row: haversine(row['lat'], row['long'], row['merch_lat'], row['merch_long']), axis=1)"
   ]
  },
  {
   "cell_type": "code",
   "execution_count": 19,
   "metadata": {},
   "outputs": [
    {
     "data": {
      "text/html": [
       "<div>\n",
       "<style scoped>\n",
       "    .dataframe tbody tr th:only-of-type {\n",
       "        vertical-align: middle;\n",
       "    }\n",
       "\n",
       "    .dataframe tbody tr th {\n",
       "        vertical-align: top;\n",
       "    }\n",
       "\n",
       "    .dataframe thead th {\n",
       "        text-align: right;\n",
       "    }\n",
       "</style>\n",
       "<table border=\"1\" class=\"dataframe\">\n",
       "  <thead>\n",
       "    <tr style=\"text-align: right;\">\n",
       "      <th></th>\n",
       "      <th>trans_date_trans_time</th>\n",
       "      <th>merchant</th>\n",
       "      <th>category</th>\n",
       "      <th>amt</th>\n",
       "      <th>city</th>\n",
       "      <th>state</th>\n",
       "      <th>lat</th>\n",
       "      <th>long</th>\n",
       "      <th>city_pop</th>\n",
       "      <th>job</th>\n",
       "      <th>dob</th>\n",
       "      <th>trans_num</th>\n",
       "      <th>merch_lat</th>\n",
       "      <th>merch_long</th>\n",
       "      <th>is_fraud</th>\n",
       "      <th>age_at_purchase</th>\n",
       "      <th>distance_to_merchant</th>\n",
       "    </tr>\n",
       "  </thead>\n",
       "  <tbody>\n",
       "    <tr>\n",
       "      <th>0</th>\n",
       "      <td>2019-04-01 00:58:00</td>\n",
       "      <td>\"Stokes, Christiansen and Sipes\"</td>\n",
       "      <td>grocery_net</td>\n",
       "      <td>14.37</td>\n",
       "      <td>Wales</td>\n",
       "      <td>AK</td>\n",
       "      <td>64.7556</td>\n",
       "      <td>-165.6723</td>\n",
       "      <td>145</td>\n",
       "      <td>\"Administrator, education\"</td>\n",
       "      <td>1939-09-11</td>\n",
       "      <td>a3806e984cec6ac0096d8184c64ad3a1</td>\n",
       "      <td>65.654142</td>\n",
       "      <td>-164.722603</td>\n",
       "      <td>1</td>\n",
       "      <td>79</td>\n",
       "      <td>109.285552</td>\n",
       "    </tr>\n",
       "    <tr>\n",
       "      <th>1</th>\n",
       "      <td>2019-04-01 15:06:00</td>\n",
       "      <td>Predovic Inc</td>\n",
       "      <td>shopping_net</td>\n",
       "      <td>966.11</td>\n",
       "      <td>Wales</td>\n",
       "      <td>AK</td>\n",
       "      <td>64.7556</td>\n",
       "      <td>-165.6723</td>\n",
       "      <td>145</td>\n",
       "      <td>\"Administrator, education\"</td>\n",
       "      <td>1939-09-11</td>\n",
       "      <td>a59185fe1b9ccf21323f581d7477573f</td>\n",
       "      <td>65.468863</td>\n",
       "      <td>-165.473127</td>\n",
       "      <td>1</td>\n",
       "      <td>79</td>\n",
       "      <td>79.856896</td>\n",
       "    </tr>\n",
       "    <tr>\n",
       "      <th>2</th>\n",
       "      <td>2019-04-01 22:37:00</td>\n",
       "      <td>Wisozk and Sons</td>\n",
       "      <td>misc_pos</td>\n",
       "      <td>49.61</td>\n",
       "      <td>Wales</td>\n",
       "      <td>AK</td>\n",
       "      <td>64.7556</td>\n",
       "      <td>-165.6723</td>\n",
       "      <td>145</td>\n",
       "      <td>\"Administrator, education\"</td>\n",
       "      <td>1939-09-11</td>\n",
       "      <td>86ba3a888b42cd3925881fa34177b4e0</td>\n",
       "      <td>65.347667</td>\n",
       "      <td>-165.914542</td>\n",
       "      <td>1</td>\n",
       "      <td>79</td>\n",
       "      <td>66.807915</td>\n",
       "    </tr>\n",
       "    <tr>\n",
       "      <th>3</th>\n",
       "      <td>2019-04-01 23:06:00</td>\n",
       "      <td>Murray-Smitham</td>\n",
       "      <td>grocery_pos</td>\n",
       "      <td>295.26</td>\n",
       "      <td>Wales</td>\n",
       "      <td>AK</td>\n",
       "      <td>64.7556</td>\n",
       "      <td>-165.6723</td>\n",
       "      <td>145</td>\n",
       "      <td>\"Administrator, education\"</td>\n",
       "      <td>1939-09-11</td>\n",
       "      <td>3a068fe1d856f0ecedbed33e4b5f4496</td>\n",
       "      <td>64.445035</td>\n",
       "      <td>-166.080207</td>\n",
       "      <td>1</td>\n",
       "      <td>79</td>\n",
       "      <td>39.636227</td>\n",
       "    </tr>\n",
       "    <tr>\n",
       "      <th>4</th>\n",
       "      <td>2019-04-01 23:59:00</td>\n",
       "      <td>Friesen Lt</td>\n",
       "      <td>health_fitness</td>\n",
       "      <td>18.17</td>\n",
       "      <td>Wales</td>\n",
       "      <td>AK</td>\n",
       "      <td>64.7556</td>\n",
       "      <td>-165.6723</td>\n",
       "      <td>145</td>\n",
       "      <td>\"Administrator, education\"</td>\n",
       "      <td>1939-09-11</td>\n",
       "      <td>891cdd1191028759dc20dc224347a0ff</td>\n",
       "      <td>65.447094</td>\n",
       "      <td>-165.446843</td>\n",
       "      <td>1</td>\n",
       "      <td>79</td>\n",
       "      <td>77.611529</td>\n",
       "    </tr>\n",
       "  </tbody>\n",
       "</table>\n",
       "</div>"
      ],
      "text/plain": [
       "  trans_date_trans_time                          merchant        category  \\\n",
       "0   2019-04-01 00:58:00  \"Stokes, Christiansen and Sipes\"     grocery_net   \n",
       "1   2019-04-01 15:06:00                      Predovic Inc    shopping_net   \n",
       "2   2019-04-01 22:37:00                   Wisozk and Sons        misc_pos   \n",
       "3   2019-04-01 23:06:00                    Murray-Smitham     grocery_pos   \n",
       "4   2019-04-01 23:59:00                        Friesen Lt  health_fitness   \n",
       "\n",
       "      amt   city state      lat      long  city_pop  \\\n",
       "0   14.37  Wales    AK  64.7556 -165.6723       145   \n",
       "1  966.11  Wales    AK  64.7556 -165.6723       145   \n",
       "2   49.61  Wales    AK  64.7556 -165.6723       145   \n",
       "3  295.26  Wales    AK  64.7556 -165.6723       145   \n",
       "4   18.17  Wales    AK  64.7556 -165.6723       145   \n",
       "\n",
       "                          job        dob                         trans_num  \\\n",
       "0  \"Administrator, education\" 1939-09-11  a3806e984cec6ac0096d8184c64ad3a1   \n",
       "1  \"Administrator, education\" 1939-09-11  a59185fe1b9ccf21323f581d7477573f   \n",
       "2  \"Administrator, education\" 1939-09-11  86ba3a888b42cd3925881fa34177b4e0   \n",
       "3  \"Administrator, education\" 1939-09-11  3a068fe1d856f0ecedbed33e4b5f4496   \n",
       "4  \"Administrator, education\" 1939-09-11  891cdd1191028759dc20dc224347a0ff   \n",
       "\n",
       "   merch_lat  merch_long  is_fraud  age_at_purchase  distance_to_merchant  \n",
       "0  65.654142 -164.722603         1               79            109.285552  \n",
       "1  65.468863 -165.473127         1               79             79.856896  \n",
       "2  65.347667 -165.914542         1               79             66.807915  \n",
       "3  64.445035 -166.080207         1               79             39.636227  \n",
       "4  65.447094 -165.446843         1               79             77.611529  "
      ]
     },
     "execution_count": 19,
     "metadata": {},
     "output_type": "execute_result"
    }
   ],
   "source": [
    "data.head()"
   ]
  },
  {
   "cell_type": "code",
   "execution_count": 20,
   "metadata": {},
   "outputs": [
    {
     "data": {
      "text/plain": [
       "693"
      ]
     },
     "execution_count": 20,
     "metadata": {},
     "output_type": "execute_result"
    }
   ],
   "source": [
    "data['merchant'].nunique()"
   ]
  },
  {
   "cell_type": "code",
   "execution_count": 21,
   "metadata": {},
   "outputs": [
    {
     "data": {
      "text/plain": [
       "14"
      ]
     },
     "execution_count": 21,
     "metadata": {},
     "output_type": "execute_result"
    }
   ],
   "source": [
    "data['category'].nunique()"
   ]
  },
  {
   "cell_type": "code",
   "execution_count": 22,
   "metadata": {},
   "outputs": [
    {
     "data": {
      "text/plain": [
       "176"
      ]
     },
     "execution_count": 22,
     "metadata": {},
     "output_type": "execute_result"
    }
   ],
   "source": [
    "data['city'].nunique()"
   ]
  },
  {
   "cell_type": "code",
   "execution_count": 23,
   "metadata": {},
   "outputs": [
    {
     "data": {
      "text/plain": [
       "13"
      ]
     },
     "execution_count": 23,
     "metadata": {},
     "output_type": "execute_result"
    }
   ],
   "source": [
    "data['state'].nunique()"
   ]
  },
  {
   "cell_type": "code",
   "execution_count": 24,
   "metadata": {},
   "outputs": [
    {
     "data": {
      "text/plain": [
       "163"
      ]
     },
     "execution_count": 24,
     "metadata": {},
     "output_type": "execute_result"
    }
   ],
   "source": [
    "data['job'].nunique()"
   ]
  },
  {
   "cell_type": "code",
   "execution_count": 25,
   "metadata": {},
   "outputs": [],
   "source": [
    "##Menghapus kolom\n",
    "data = data.drop(columns=['trans_date_trans_time', 'lat', 'long', 'dob', 'trans_num', 'merch_lat', 'merch_long'])"
   ]
  },
  {
   "cell_type": "code",
   "execution_count": 26,
   "metadata": {},
   "outputs": [
    {
     "data": {
      "text/html": [
       "<div>\n",
       "<style scoped>\n",
       "    .dataframe tbody tr th:only-of-type {\n",
       "        vertical-align: middle;\n",
       "    }\n",
       "\n",
       "    .dataframe tbody tr th {\n",
       "        vertical-align: top;\n",
       "    }\n",
       "\n",
       "    .dataframe thead th {\n",
       "        text-align: right;\n",
       "    }\n",
       "</style>\n",
       "<table border=\"1\" class=\"dataframe\">\n",
       "  <thead>\n",
       "    <tr style=\"text-align: right;\">\n",
       "      <th></th>\n",
       "      <th>merchant</th>\n",
       "      <th>category</th>\n",
       "      <th>amt</th>\n",
       "      <th>city</th>\n",
       "      <th>state</th>\n",
       "      <th>city_pop</th>\n",
       "      <th>job</th>\n",
       "      <th>is_fraud</th>\n",
       "      <th>age_at_purchase</th>\n",
       "      <th>distance_to_merchant</th>\n",
       "    </tr>\n",
       "  </thead>\n",
       "  <tbody>\n",
       "    <tr>\n",
       "      <th>0</th>\n",
       "      <td>\"Stokes, Christiansen and Sipes\"</td>\n",
       "      <td>grocery_net</td>\n",
       "      <td>14.37</td>\n",
       "      <td>Wales</td>\n",
       "      <td>AK</td>\n",
       "      <td>145</td>\n",
       "      <td>\"Administrator, education\"</td>\n",
       "      <td>1</td>\n",
       "      <td>79</td>\n",
       "      <td>109.285552</td>\n",
       "    </tr>\n",
       "    <tr>\n",
       "      <th>1</th>\n",
       "      <td>Predovic Inc</td>\n",
       "      <td>shopping_net</td>\n",
       "      <td>966.11</td>\n",
       "      <td>Wales</td>\n",
       "      <td>AK</td>\n",
       "      <td>145</td>\n",
       "      <td>\"Administrator, education\"</td>\n",
       "      <td>1</td>\n",
       "      <td>79</td>\n",
       "      <td>79.856896</td>\n",
       "    </tr>\n",
       "    <tr>\n",
       "      <th>2</th>\n",
       "      <td>Wisozk and Sons</td>\n",
       "      <td>misc_pos</td>\n",
       "      <td>49.61</td>\n",
       "      <td>Wales</td>\n",
       "      <td>AK</td>\n",
       "      <td>145</td>\n",
       "      <td>\"Administrator, education\"</td>\n",
       "      <td>1</td>\n",
       "      <td>79</td>\n",
       "      <td>66.807915</td>\n",
       "    </tr>\n",
       "    <tr>\n",
       "      <th>3</th>\n",
       "      <td>Murray-Smitham</td>\n",
       "      <td>grocery_pos</td>\n",
       "      <td>295.26</td>\n",
       "      <td>Wales</td>\n",
       "      <td>AK</td>\n",
       "      <td>145</td>\n",
       "      <td>\"Administrator, education\"</td>\n",
       "      <td>1</td>\n",
       "      <td>79</td>\n",
       "      <td>39.636227</td>\n",
       "    </tr>\n",
       "    <tr>\n",
       "      <th>4</th>\n",
       "      <td>Friesen Lt</td>\n",
       "      <td>health_fitness</td>\n",
       "      <td>18.17</td>\n",
       "      <td>Wales</td>\n",
       "      <td>AK</td>\n",
       "      <td>145</td>\n",
       "      <td>\"Administrator, education\"</td>\n",
       "      <td>1</td>\n",
       "      <td>79</td>\n",
       "      <td>77.611529</td>\n",
       "    </tr>\n",
       "  </tbody>\n",
       "</table>\n",
       "</div>"
      ],
      "text/plain": [
       "                           merchant        category     amt   city state  \\\n",
       "0  \"Stokes, Christiansen and Sipes\"     grocery_net   14.37  Wales    AK   \n",
       "1                      Predovic Inc    shopping_net  966.11  Wales    AK   \n",
       "2                   Wisozk and Sons        misc_pos   49.61  Wales    AK   \n",
       "3                    Murray-Smitham     grocery_pos  295.26  Wales    AK   \n",
       "4                        Friesen Lt  health_fitness   18.17  Wales    AK   \n",
       "\n",
       "   city_pop                         job  is_fraud  age_at_purchase  \\\n",
       "0       145  \"Administrator, education\"         1               79   \n",
       "1       145  \"Administrator, education\"         1               79   \n",
       "2       145  \"Administrator, education\"         1               79   \n",
       "3       145  \"Administrator, education\"         1               79   \n",
       "4       145  \"Administrator, education\"         1               79   \n",
       "\n",
       "   distance_to_merchant  \n",
       "0            109.285552  \n",
       "1             79.856896  \n",
       "2             66.807915  \n",
       "3             39.636227  \n",
       "4             77.611529  "
      ]
     },
     "execution_count": 26,
     "metadata": {},
     "output_type": "execute_result"
    }
   ],
   "source": [
    "data.head()"
   ]
  },
  {
   "cell_type": "code",
   "execution_count": 27,
   "metadata": {},
   "outputs": [
    {
     "data": {
      "image/png": "[encoded data removed]",
      "text/plain": [
       "<Figure size 800x500 with 1 Axes>"
      ]
     },
     "metadata": {},
     "output_type": "display_data"
    },
    {
     "data": {
      "text/plain": [
       "is_fraud\n",
       "0    12601\n",
       "1     1845\n",
       "Name: count, dtype: int64"
      ]
     },
     "execution_count": 27,
     "metadata": {},
     "output_type": "execute_result"
    }
   ],
   "source": [
    "##Mengecek data dari kolom is_fraud (target) \n",
    "plt.figure(figsize=(8, 5))\n",
    "sns.countplot(data=data, x='is_fraud', palette='pastel', edgecolor=\"black\")\n",
    "plt.grid(False)\n",
    "plt.show()\n",
    "\n",
    "data['is_fraud'].value_counts()"
   ]
  },
  {
   "cell_type": "code",
   "execution_count": 28,
   "metadata": {},
   "outputs": [
    {
     "data": {
      "text/plain": [
       "['merchant', 'category', 'city', 'state', 'job']"
      ]
     },
     "execution_count": 28,
     "metadata": {},
     "output_type": "execute_result"
    }
   ],
   "source": [
    "##Menentukkan kolom dengan tipe faktor (category) dan numerik\n",
    "str_list = [] \n",
    "num_list = []\n",
    "for colname, colvalue in data.items():\n",
    "    if colname == 'is_fraud':  \n",
    "        continue  \n",
    "    if type(colvalue[1]) == str:\n",
    "        str_list.append(colname)\n",
    "    else:\n",
    "        num_list.append(colname)\n",
    "\n",
    "        \n",
    "str_list"
   ]
  },
  {
   "cell_type": "code",
   "execution_count": 29,
   "metadata": {},
   "outputs": [
    {
     "data": {
      "text/plain": [
       "['amt', 'city_pop', 'age_at_purchase', 'distance_to_merchant']"
      ]
     },
     "execution_count": 29,
     "metadata": {},
     "output_type": "execute_result"
    }
   ],
   "source": [
    "num_list"
   ]
  },
  {
   "cell_type": "code",
   "execution_count": 30,
   "metadata": {},
   "outputs": [],
   "source": [
    "# Membuat objek OneHotEncoder\n",
    "encoder = OneHotEncoder(sparse=False, drop='first')  \n",
    "encoded_features = encoder.fit_transform(data[str_list])\n",
    "\n",
    "encoded_df = pd.DataFrame(encoded_features, columns=encoder.get_feature_names_out(str_list))\n",
    "\n",
    "data = data.drop(columns=str_list)  \n",
    "data = pd.concat([data, encoded_df], axis=1)  \n"
   ]
  },
  {
   "cell_type": "markdown",
   "metadata": {},
   "source": [
    "##Melakukan label encoding\n",
    "for col in str_list:\n",
    "    encoder = LabelEncoder()\n",
    "    encoder.fit(data[col])\n",
    "    data[col] = encoder.transform(data[col])"
   ]
  },
  {
   "cell_type": "code",
   "execution_count": 31,
   "metadata": {},
   "outputs": [],
   "source": [
    "##Melakukan standarisasi data\n",
    "for col in num_list:\n",
    "    scaler = StandardScaler()\n",
    "    data[col] = scaler.fit_transform(data[col].values.reshape(-1, 1)).flatten()"
   ]
  },
  {
   "cell_type": "code",
   "execution_count": 32,
   "metadata": {},
   "outputs": [],
   "source": [
    "##Splitting data\n",
    "X = data.drop(columns=['is_fraud'])  \n",
    "y = data['is_fraud'] \n",
    "\n",
    "X_train, X_test, y_train, y_test = train_test_split(X, y, test_size=0.3, stratify=y, random_state=42)"
   ]
  },
  {
   "cell_type": "code",
   "execution_count": 33,
   "metadata": {},
   "outputs": [],
   "source": [
    "##Mengatasi imbalance data\n",
    "smote = SMOTE(random_state=42)\n",
    "X_train_resampled, y_train_resampled = smote.fit_resample(X_train, y_train)"
   ]
  },
  {
   "cell_type": "code",
   "execution_count": 34,
   "metadata": {},
   "outputs": [
    {
     "data": {
      "text/plain": [
       "is_fraud\n",
       "0    8821\n",
       "1    8821\n",
       "Name: count, dtype: int64"
      ]
     },
     "execution_count": 34,
     "metadata": {},
     "output_type": "execute_result"
    }
   ],
   "source": [
    "y_train_resampled.value_counts()"
   ]
  },
  {
   "cell_type": "markdown",
   "metadata": {},
   "source": [
    "## Melakukan Klasifikasi\n",
    "### XGBoost"
   ]
  },
  {
   "cell_type": "code",
   "execution_count": 35,
   "metadata": {},
   "outputs": [],
   "source": [
    "xgb_clf = xgb.XGBClassifier(max_depth=5, n_estimators=10000, learning_rate=0.3,\n",
    "                            n_jobs=-1)"
   ]
  },
  {
   "cell_type": "code",
   "execution_count": 36,
   "metadata": {},
   "outputs": [
    {
     "data": {
      "text/html": [
       "<style>#sk-container-id-1 {color: black;background-color: white;}#sk-container-id-1 pre{padding: 0;}#sk-container-id-1 div.sk-toggleable {background-color: white;}#sk-container-id-1 label.sk-toggleable__label {cursor: pointer;display: block;width: 100%;margin-bottom: 0;padding: 0.3em;box-sizing: border-box;text-align: center;}#sk-container-id-1 label.sk-toggleable__label-arrow:before {content: \"▸\";float: left;margin-right: 0.25em;color: #696969;}#sk-container-id-1 label.sk-toggleable__label-arrow:hover:before {color: black;}#sk-container-id-1 div.sk-estimator:hover label.sk-toggleable__label-arrow:before {color: black;}#sk-container-id-1 div.sk-toggleable__content {max-height: 0;max-width: 0;overflow: hidden;text-align: left;background-color: #f0f8ff;}#sk-container-id-1 div.sk-toggleable__content pre {margin: 0.2em;color: black;border-radius: 0.25em;background-color: #f0f8ff;}#sk-container-id-1 input.sk-toggleable__control:checked~div.sk-toggleable__content {max-height: 200px;max-width: 100%;overflow: auto;}#sk-container-id-1 input.sk-toggleable__control:checked~label.sk-toggleable__label-arrow:before {content: \"▾\";}#sk-container-id-1 div.sk-estimator input.sk-toggleable__control:checked~label.sk-toggleable__label {background-color: #d4ebff;}#sk-container-id-1 div.sk-label input.sk-toggleable__control:checked~label.sk-toggleable__label {background-color: #d4ebff;}#sk-container-id-1 input.sk-hidden--visually {border: 0;clip: rect(1px 1px 1px 1px);clip: rect(1px, 1px, 1px, 1px);height: 1px;margin: -1px;overflow: hidden;padding: 0;position: absolute;width: 1px;}#sk-container-id-1 div.sk-estimator {font-family: monospace;background-color: #f0f8ff;border: 1px dotted black;border-radius: 0.25em;box-sizing: border-box;margin-bottom: 0.5em;}#sk-container-id-1 div.sk-estimator:hover {background-color: #d4ebff;}#sk-container-id-1 div.sk-parallel-item::after {content: \"\";width: 100%;border-bottom: 1px solid gray;flex-grow: 1;}#sk-container-id-1 div.sk-label:hover label.sk-toggleable__label {background-color: #d4ebff;}#sk-container-id-1 div.sk-serial::before {content: \"\";position: absolute;border-left: 1px solid gray;box-sizing: border-box;top: 0;bottom: 0;left: 50%;z-index: 0;}#sk-container-id-1 div.sk-serial {display: flex;flex-direction: column;align-items: center;background-color: white;padding-right: 0.2em;padding-left: 0.2em;position: relative;}#sk-container-id-1 div.sk-item {position: relative;z-index: 1;}#sk-container-id-1 div.sk-parallel {display: flex;align-items: stretch;justify-content: center;background-color: white;position: relative;}#sk-container-id-1 div.sk-item::before, #sk-container-id-1 div.sk-parallel-item::before {content: \"\";position: absolute;border-left: 1px solid gray;box-sizing: border-box;top: 0;bottom: 0;left: 50%;z-index: -1;}#sk-container-id-1 div.sk-parallel-item {display: flex;flex-direction: column;z-index: 1;position: relative;background-color: white;}#sk-container-id-1 div.sk-parallel-item:first-child::after {align-self: flex-end;width: 50%;}#sk-container-id-1 div.sk-parallel-item:last-child::after {align-self: flex-start;width: 50%;}#sk-container-id-1 div.sk-parallel-item:only-child::after {width: 0;}#sk-container-id-1 div.sk-dashed-wrapped {border: 1px dashed gray;margin: 0 0.4em 0.5em 0.4em;box-sizing: border-box;padding-bottom: 0.4em;background-color: white;}#sk-container-id-1 div.sk-label label {font-family: monospace;font-weight: bold;display: inline-block;line-height: 1.2em;}#sk-container-id-1 div.sk-label-container {text-align: center;}#sk-container-id-1 div.sk-container {/* jupyter's `normalize.less` sets `[hidden] { display: none; }` but bootstrap.min.css set `[hidden] { display: none !important; }` so we also need the `!important` here to be able to override the default hidden behavior on the sphinx rendered scikit-learn.org. See: https://github.com/scikit-learn/scikit-learn/issues/21755 */display: inline-block !important;position: relative;}#sk-container-id-1 div.sk-text-repr-fallback {display: none;}</style><div id=\"sk-container-id-1\" class=\"sk-top-container\"><div class=\"sk-text-repr-fallback\"><pre>XGBClassifier(base_score=None, booster=None, callbacks=None,\n",
       "              colsample_bylevel=None, colsample_bynode=None,\n",
       "              colsample_bytree=None, device=None, early_stopping_rounds=None,\n",
       "              enable_categorical=False, eval_metric=None, feature_types=None,\n",
       "              gamma=None, grow_policy=None, importance_type=None,\n",
       "              interaction_constraints=None, learning_rate=0.3, max_bin=None,\n",
       "              max_cat_threshold=None, max_cat_to_onehot=None,\n",
       "              max_delta_step=None, max_depth=5, max_leaves=None,\n",
       "              min_child_weight=None, missing=nan, monotone_constraints=None,\n",
       "              multi_strategy=None, n_estimators=10000, n_jobs=-1,\n",
       "              num_parallel_tree=None, random_state=None, ...)</pre><b>In a Jupyter environment, please rerun this cell to show the HTML representation or trust the notebook. <br />On GitHub, the HTML representation is unable to render, please try loading this page with nbviewer.org.</b></div><div class=\"sk-container\" hidden><div class=\"sk-item\"><div class=\"sk-estimator sk-toggleable\"><input class=\"sk-toggleable__control sk-hidden--visually\" id=\"sk-estimator-id-1\" type=\"checkbox\" checked><label for=\"sk-estimator-id-1\" class=\"sk-toggleable__label sk-toggleable__label-arrow\">XGBClassifier</label><div class=\"sk-toggleable__content\"><pre>XGBClassifier(base_score=None, booster=None, callbacks=None,\n",
       "              colsample_bylevel=None, colsample_bynode=None,\n",
       "              colsample_bytree=None, device=None, early_stopping_rounds=None,\n",
       "              enable_categorical=False, eval_metric=None, feature_types=None,\n",
       "              gamma=None, grow_policy=None, importance_type=None,\n",
       "              interaction_constraints=None, learning_rate=0.3, max_bin=None,\n",
       "              max_cat_threshold=None, max_cat_to_onehot=None,\n",
       "              max_delta_step=None, max_depth=5, max_leaves=None,\n",
       "              min_child_weight=None, missing=nan, monotone_constraints=None,\n",
       "              multi_strategy=None, n_estimators=10000, n_jobs=-1,\n",
       "              num_parallel_tree=None, random_state=None, ...)</pre></div></div></div></div></div>"
      ],
      "text/plain": [
       "XGBClassifier(base_score=None, booster=None, callbacks=None,\n",
       "              colsample_bylevel=None, colsample_bynode=None,\n",
       "              colsample_bytree=None, device=None, early_stopping_rounds=None,\n",
       "              enable_categorical=False, eval_metric=None, feature_types=None,\n",
       "              gamma=None, grow_policy=None, importance_type=None,\n",
       "              interaction_constraints=None, learning_rate=0.3, max_bin=None,\n",
       "              max_cat_threshold=None, max_cat_to_onehot=None,\n",
       "              max_delta_step=None, max_depth=5, max_leaves=None,\n",
       "              min_child_weight=None, missing=nan, monotone_constraints=None,\n",
       "              multi_strategy=None, n_estimators=10000, n_jobs=-1,\n",
       "              num_parallel_tree=None, random_state=None, ...)"
      ]
     },
     "execution_count": 36,
     "metadata": {},
     "output_type": "execute_result"
    }
   ],
   "source": [
    "xgb_clf.fit(X_train_resampled, y_train_resampled)"
   ]
  },
  {
   "cell_type": "code",
   "execution_count": 37,
   "metadata": {},
   "outputs": [],
   "source": [
    "y_pred_xgb = xgb_clf.predict(X_test)"
   ]
  },
  {
   "cell_type": "code",
   "execution_count": 38,
   "metadata": {},
   "outputs": [
    {
     "name": "stdout",
     "output_type": "stream",
     "text": [
      "              precision    recall  f1-score   support\n",
      "\n",
      "           0       0.98      0.99      0.99      3780\n",
      "           1       0.91      0.90      0.90       554\n",
      "\n",
      "    accuracy                           0.98      4334\n",
      "   macro avg       0.95      0.94      0.94      4334\n",
      "weighted avg       0.97      0.98      0.98      4334\n",
      "\n"
     ]
    }
   ],
   "source": [
    "print(classification_report(y_test, y_pred_xgb))"
   ]
  },
  {
   "cell_type": "code",
   "execution_count": 42,
   "metadata": {},
   "outputs": [
    {
     "data": {
      "image/png": "[encoded data removed]",
      "text/plain": [
       "<Figure size 800x600 with 2 Axes>"
      ]
     },
     "metadata": {},
     "output_type": "display_data"
    }
   ],
   "source": [
    "# Membuat confusion matrix\n",
    "conf_matrix = confusion_matrix(y_test, y_pred_xgb)\n",
    "\n",
    "# Plot confusion matrix\n",
    "plt.figure(figsize=(8, 6))\n",
    "sns.heatmap(conf_matrix, annot=True, fmt='d', cmap='Greens')\n",
    "plt.xlabel('Predicted')\n",
    "plt.ylabel('Actual')\n",
    "plt.title('Confusion Matrix')\n",
    "plt.show()\n"
   ]
  },
  {
   "cell_type": "markdown",
   "metadata": {},
   "source": [
    "### Hyperparamter Tuning dari XGBoost"
   ]
  },
  {
   "cell_type": "code",
   "execution_count": null,
   "metadata": {},
   "outputs": [
    {
     "name": "stdout",
     "output_type": "stream",
     "text": [
      "SCORE:                                                 \n",
      "0.14878892733564014                                    \n",
      "SCORE:                                                                           \n",
      "0.127681660899654                                                                \n",
      "SCORE:                                                                           \n",
      "0.23252595155709344                                                              \n",
      "SCORE:                                                                           \n",
      "0.13910034602076124                                                              \n",
      "SCORE:                                                                           \n",
      "0.23356401384083045                                                              \n",
      "SCORE:                                                                           \n",
      "0.12802768166089964                                                              \n",
      "SCORE:                                                                           \n",
      "0.14359861591695502                                                              \n",
      "SCORE:                                                                           \n",
      "0.19826989619377164                                                              \n",
      "SCORE:                                                                           \n",
      "0.127681660899654                                                                \n",
      "SCORE:                                                                           \n",
      "0.127681660899654                                                                \n",
      "SCORE:                                                                            \n",
      "0.14844290657439446                                                               \n",
      "SCORE:                                                                            \n",
      "0.127681660899654                                                                 \n",
      "SCORE:                                                                            \n",
      "0.127681660899654                                                                 \n",
      "SCORE:                                                                            \n",
      "0.127681660899654                                                                 \n",
      "SCORE:                                                                            \n",
      "0.15121107266435987                                                               \n",
      "SCORE:                                                                            \n",
      "0.127681660899654                                                                 \n",
      "SCORE:                                                                            \n",
      "0.127681660899654                                                                 \n",
      "SCORE:                                                                            \n",
      "0.127681660899654                                                                 \n",
      "SCORE:                                                                            \n",
      "0.127681660899654                                                                 \n",
      "SCORE:                                                                            \n",
      "0.127681660899654                                                                 \n",
      "SCORE:                                                                            \n",
      "0.14844290657439446                                                               \n",
      "SCORE:                                                                            \n",
      "0.14429065743944636                                                               \n",
      "SCORE:                                                                            \n",
      "0.14429065743944636                                                               \n",
      "SCORE:                                                                            \n",
      "0.14429065743944636                                                               \n",
      "SCORE:                                                                            \n",
      "0.30934256055363324                                                               \n",
      "SCORE:                                                                            \n",
      "0.2906574394463668                                                                \n",
      "SCORE:                                                                            \n",
      "0.30934256055363324                                                               \n",
      "SCORE:                                                                            \n",
      "0.30934256055363324                                                               \n",
      "SCORE:                                                                            \n",
      "0.18269896193771626                                                               \n",
      "SCORE:                                                                            \n",
      "0.20761245674740483                                                               \n",
      "SCORE:                                                                            \n",
      "0.14048442906574393                                                               \n",
      "SCORE:                                                                            \n",
      "0.14186851211072665                                                               \n",
      "SCORE:                                                                            \n",
      "0.23875432525951557                                                               \n",
      "SCORE:                                                                            \n",
      "0.20899653979238755                                                               \n",
      "SCORE:                                                                            \n",
      "0.23391003460207613                                                               \n",
      "SCORE:                                                                            \n",
      "0.1397923875432526                                                                \n",
      "SCORE:                                                                            \n",
      "0.127681660899654                                                                 \n",
      "SCORE:                                                                            \n",
      "0.25259515570934254                                                               \n",
      "SCORE:                                                                            \n",
      "0.1314878892733564                                                                \n",
      "SCORE:                                                                            \n",
      "0.28269896193771626                                                               \n",
      "SCORE:                                                                            \n",
      "0.14048442906574393                                                               \n",
      "SCORE:                                                                            \n",
      "0.23771626297577855                                                               \n",
      "SCORE:                                                                            \n",
      "0.35813148788927335                                                               \n",
      "SCORE:                                                                            \n",
      "0.127681660899654                                                                 \n",
      "SCORE:                                                                            \n",
      "0.15847750865051904                                                               \n",
      "SCORE:                                                                            \n",
      "0.21660899653979238                                                               \n",
      "SCORE:                                                                            \n",
      "0.1560553633217993                                                                \n",
      "SCORE:                                                                            \n",
      "0.14498269896193772                                                               \n",
      "SCORE:                                                                            \n",
      "0.127681660899654                                                                 \n",
      "SCORE:                                                                            \n",
      "0.2757785467128028                                                                \n",
      "SCORE:                                                                            \n",
      "0.4079584775086505                                                                \n",
      "SCORE:                                                                            \n",
      "0.3256055363321799                                                                \n",
      "SCORE:                                                                            \n",
      "0.14844290657439446                                                               \n",
      "SCORE:                                                                            \n",
      "0.1847750865051903                                                                \n",
      "SCORE:                                                                            \n",
      "0.15397923875432526                                                               \n",
      "SCORE:                                                                            \n",
      "0.157439446366782                                                                 \n",
      "SCORE:                                                                            \n",
      "0.14844290657439446                                                               \n",
      "SCORE:                                                                            \n",
      "0.15951557093425606                                                               \n",
      "SCORE:                                                                            \n",
      "0.22422145328719723                                                               \n",
      "SCORE:                                                                            \n",
      "0.27439446366782005                                                               \n",
      "SCORE:                                                                            \n",
      "0.15916955017301038                                                               \n",
      "SCORE:                                                                            \n",
      "0.23356401384083045                                                               \n",
      "SCORE:                                                                            \n",
      "0.12975778546712802                                                               \n",
      "SCORE:                                                                            \n",
      "0.1508650519031142                                                                \n",
      "SCORE:                                                                            \n",
      "0.14325259515570934                                                               \n",
      "SCORE:                                                                            \n",
      "0.3273356401384083                                                                \n",
      "SCORE:                                                                            \n",
      "0.35813148788927335                                                               \n",
      "SCORE:                                                                            \n",
      "0.42006920415224913                                                               \n",
      "SCORE:                                                                            \n",
      "0.35813148788927335                                                               \n",
      "SCORE:                                                                            \n",
      "0.35813148788927335                                                               \n",
      "SCORE:                                                                            \n",
      "0.33771626297577856                                                               \n",
      "SCORE:                                                                            \n",
      "0.42006920415224913                                                               \n",
      "SCORE:                                                                            \n",
      "0.21833910034602075                                                               \n",
      "SCORE:                                                                            \n",
      "0.16055363321799307                                                               \n",
      "SCORE:                                                                            \n",
      "0.20103806228373702                                                               \n",
      "SCORE:                                                                            \n",
      "0.372318339100346                                                                 \n",
      "SCORE:                                                                            \n",
      "0.14878892733564014                                                               \n",
      "SCORE:                                                                            \n",
      "0.21868512110726643                                                               \n",
      "SCORE:                                                                            \n",
      "0.371280276816609                                                                 \n",
      "SCORE:                                                                            \n",
      "0.14948096885813147                                                               \n",
      "SCORE:                                                                            \n",
      "0.17231833910034602                                                               \n",
      "SCORE:                                                                            \n",
      "0.15017301038062283                                                               \n",
      "SCORE:                                                                            \n",
      "0.185121107266436                                                                 \n",
      "SCORE:                                                                            \n",
      "0.127681660899654                                                                 \n",
      "SCORE:                                                                            \n",
      "0.20761245674740483                                                               \n",
      "SCORE:                                                                            \n",
      "0.21211072664359862                                                               \n",
      "SCORE:                                                                            \n",
      "0.14013840830449828                                                               \n",
      "SCORE:                                                                            \n",
      "0.4079584775086505                                                                \n",
      "SCORE:                                                                            \n",
      "0.33771626297577856                                                               \n",
      "SCORE:                                                                            \n",
      "0.3134948096885813                                                                \n",
      "SCORE:                                                                            \n",
      "0.16332179930795848                                                               \n",
      "SCORE:                                                                            \n",
      "0.3086505190311419                                                                \n",
      "SCORE:                                                                            \n",
      "0.1342560553633218                                                                \n",
      "SCORE:                                                                            \n",
      "0.28269896193771626                                                               \n",
      "SCORE:                                                                            \n",
      "0.28823529411764703                                                               \n",
      "SCORE:                                                                            \n",
      "0.22110726643598616                                                               \n",
      "SCORE:                                                                            \n",
      "0.14152249134948097                                                               \n",
      "SCORE:                                                                            \n",
      "0.13079584775086506                                                               \n",
      "SCORE:                                                                            \n",
      "0.4259515570934256                                                                \n",
      "SCORE:                                                                            \n",
      "0.4259515570934256                                                                \n",
      "100%|██████████| 100/100 [04:01<00:00,  2.42s/trial, best loss: 0.5740484429065744]\n",
      "Best Hyperparameters: {'colsample_bytree': 0.9990739177039054, 'gamma': 2.034355396049071, 'learning_rate': 0.27295907961760857, 'max_depth': 12.0, 'min_child_weight': 2.0, 'n_estimators': 400.0, 'n_jobs': 0, 'reg_alpha': 89.0, 'reg_lambda': 1.6282981950547628}\n"
     ]
    }
   ],
   "source": [
    "from hyperopt import fmin, tpe, hp, STATUS_OK, Trials\n",
    "import xgboost as xgb\n",
    "from sklearn.metrics import accuracy_score\n",
    "\n",
    "# Mendefinisikan rentang parameter\n",
    "space = {\n",
    "    'max_depth': hp.quniform(\"max_depth\", 3, 15, 1),  # Mengurangi rentang untuk lebih terfokus\n",
    "    'gamma': hp.uniform('gamma', 0, 5),  # Mengurangi rentang untuk gamma\n",
    "    'reg_alpha': hp.quniform('reg_alpha', 0, 200, 1),  # Rentang untuk reg_alpha\n",
    "    'reg_lambda': hp.uniform('reg_lambda', 0, 2),  # Rentang untuk reg_lambda\n",
    "    'colsample_bytree': hp.uniform('colsample_bytree', 0.5, 1),\n",
    "    'min_child_weight': hp.quniform('min_child_weight', 1, 10, 1),  # Memastikan nilai minimum adalah 1\n",
    "    'n_estimators': hp.quniform('n_estimators', 100, 1000, 100),  # Rentang yang benar untuk n_estimators\n",
    "    'learning_rate': hp.uniform('learning_rate', 0.01, 0.3),  # Tuning untuk learning rate\n",
    "    'n_jobs': hp.choice('n_jobs', [1, 2, 4, 8, -1]),  # Menggunakan -1 untuk semua core\n",
    "    'seed': 0\n",
    "}\n",
    "\n",
    "def objective(space):\n",
    "    # Membuat model XGBoost dengan hyperparameter yang diberikan\n",
    "    xgb_clf = xgb.XGBClassifier(\n",
    "        n_estimators=int(space['n_estimators']),\n",
    "        max_depth=int(space['max_depth']),\n",
    "        gamma=space['gamma'],\n",
    "        reg_alpha=int(space['reg_alpha']),\n",
    "        min_child_weight=int(space['min_child_weight']),\n",
    "        colsample_bytree=space['colsample_bytree'],\n",
    "        reg_lambda=space['reg_lambda'],\n",
    "        learning_rate=space['learning_rate'],\n",
    "        n_jobs=space['n_jobs'],\n",
    "        seed=space['seed']\n",
    "    )\n",
    "    \n",
    "    # Evaluasi model\n",
    "    evaluation = [(X_train_resampled, y_train_resampled), (X_test, y_test)]\n",
    "    \n",
    "    xgb_clf.fit(X_train_resampled, y_train_resampled,\n",
    "                 eval_set=evaluation, eval_metric=\"auc\",\n",
    "                 early_stopping_rounds=10, verbose=False)\n",
    "    \n",
    "    # Prediksi dan hitung akurasi\n",
    "    pred = xgb_clf.predict(X_test)\n",
    "    accuracy = accuracy_score(y_test, pred)\n",
    "    print(\"SCORE:\", accuracy)\n",
    "    \n",
    "    # Mengembalikan nilai loss dan akurasi untuk analisis\n",
    "    return {'loss': 1 - accuracy, 'status': STATUS_OK, 'accuracy': accuracy}\n",
    "\n",
    "# Menyimpan hasil percobaan\n",
    "trials = Trials()\n",
    "\n",
    "# Melakukan optimasi hyperparameter\n",
    "best_hyperparams = fmin(fn=objective,\n",
    "                        space=space,\n",
    "                        algo=tpe.suggest,\n",
    "                        max_evals=100,\n",
    "                        trials=trials)\n",
    "\n",
    "print(\"Best Hyperparameters:\", best_hyperparams)\n"
   ]
  }
 ],
 "metadata": {
  "kernelspec": {
   "display_name": "Python 3",
   "language": "python",
   "name": "python3"
  },
  "language_info": {
   "codemirror_mode": {
    "name": "ipython",
    "version": 3
   },
   "file_extension": ".py",
   "mimetype": "text/x-python",
   "name": "python",
   "nbconvert_exporter": "python",
   "pygments_lexer": "ipython3",
   "version": "3.11.0"
  }
 },
 "nbformat": 4,
 "nbformat_minor": 2
}
